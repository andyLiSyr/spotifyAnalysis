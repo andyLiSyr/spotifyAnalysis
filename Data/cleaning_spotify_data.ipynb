{
 "cells": [
  {
   "cell_type": "markdown",
   "id": "7fbb5717",
   "metadata": {},
   "source": [
    "## Data Cleaning Spotify Dataset"
   ]
  },
  {
   "cell_type": "code",
   "execution_count": 88,
   "id": "ad4156ff",
   "metadata": {},
   "outputs": [],
   "source": [
    "#import libraries\n",
    "import pandas as pd"
   ]
  },
  {
   "cell_type": "code",
   "execution_count": 89,
   "id": "5916c9a1",
   "metadata": {},
   "outputs": [],
   "source": [
    "#loading csv dataset into Dataframe named songs\n",
    "songs=pd.read_csv('songs_normalize.csv')"
   ]
  },
  {
   "cell_type": "markdown",
   "id": "65e94437",
   "metadata": {},
   "source": [
    "### Exploring the Dataset "
   ]
  },
  {
   "cell_type": "code",
   "execution_count": 90,
   "id": "bfe53999",
   "metadata": {},
   "outputs": [
    {
     "data": {
      "text/html": [
       "<div>\n",
       "<style scoped>\n",
       "    .dataframe tbody tr th:only-of-type {\n",
       "        vertical-align: middle;\n",
       "    }\n",
       "\n",
       "    .dataframe tbody tr th {\n",
       "        vertical-align: top;\n",
       "    }\n",
       "\n",
       "    .dataframe thead th {\n",
       "        text-align: right;\n",
       "    }\n",
       "</style>\n",
       "<table border=\"1\" class=\"dataframe\">\n",
       "  <thead>\n",
       "    <tr style=\"text-align: right;\">\n",
       "      <th></th>\n",
       "      <th>artist</th>\n",
       "      <th>song</th>\n",
       "      <th>duration_ms</th>\n",
       "      <th>explicit</th>\n",
       "      <th>year</th>\n",
       "      <th>popularity</th>\n",
       "      <th>danceability</th>\n",
       "      <th>energy</th>\n",
       "      <th>key</th>\n",
       "      <th>loudness</th>\n",
       "      <th>mode</th>\n",
       "      <th>speechiness</th>\n",
       "      <th>acousticness</th>\n",
       "      <th>instrumentalness</th>\n",
       "      <th>liveness</th>\n",
       "      <th>valence</th>\n",
       "      <th>tempo</th>\n",
       "      <th>genre</th>\n",
       "    </tr>\n",
       "  </thead>\n",
       "  <tbody>\n",
       "    <tr>\n",
       "      <th>0</th>\n",
       "      <td>Britney Spears</td>\n",
       "      <td>Oops!...I Did It Again</td>\n",
       "      <td>211160</td>\n",
       "      <td>False</td>\n",
       "      <td>2000</td>\n",
       "      <td>77</td>\n",
       "      <td>0.751</td>\n",
       "      <td>0.834</td>\n",
       "      <td>1</td>\n",
       "      <td>-5.444</td>\n",
       "      <td>0</td>\n",
       "      <td>0.0437</td>\n",
       "      <td>0.3000</td>\n",
       "      <td>0.000018</td>\n",
       "      <td>0.3550</td>\n",
       "      <td>0.894</td>\n",
       "      <td>95.053</td>\n",
       "      <td>pop</td>\n",
       "    </tr>\n",
       "    <tr>\n",
       "      <th>1</th>\n",
       "      <td>blink-182</td>\n",
       "      <td>All The Small Things</td>\n",
       "      <td>167066</td>\n",
       "      <td>False</td>\n",
       "      <td>1999</td>\n",
       "      <td>79</td>\n",
       "      <td>0.434</td>\n",
       "      <td>0.897</td>\n",
       "      <td>0</td>\n",
       "      <td>-4.918</td>\n",
       "      <td>1</td>\n",
       "      <td>0.0488</td>\n",
       "      <td>0.0103</td>\n",
       "      <td>0.000000</td>\n",
       "      <td>0.6120</td>\n",
       "      <td>0.684</td>\n",
       "      <td>148.726</td>\n",
       "      <td>rock, pop</td>\n",
       "    </tr>\n",
       "    <tr>\n",
       "      <th>2</th>\n",
       "      <td>Faith Hill</td>\n",
       "      <td>Breathe</td>\n",
       "      <td>250546</td>\n",
       "      <td>False</td>\n",
       "      <td>1999</td>\n",
       "      <td>66</td>\n",
       "      <td>0.529</td>\n",
       "      <td>0.496</td>\n",
       "      <td>7</td>\n",
       "      <td>-9.007</td>\n",
       "      <td>1</td>\n",
       "      <td>0.0290</td>\n",
       "      <td>0.1730</td>\n",
       "      <td>0.000000</td>\n",
       "      <td>0.2510</td>\n",
       "      <td>0.278</td>\n",
       "      <td>136.859</td>\n",
       "      <td>pop, country</td>\n",
       "    </tr>\n",
       "    <tr>\n",
       "      <th>3</th>\n",
       "      <td>Bon Jovi</td>\n",
       "      <td>It's My Life</td>\n",
       "      <td>224493</td>\n",
       "      <td>False</td>\n",
       "      <td>2000</td>\n",
       "      <td>78</td>\n",
       "      <td>0.551</td>\n",
       "      <td>0.913</td>\n",
       "      <td>0</td>\n",
       "      <td>-4.063</td>\n",
       "      <td>0</td>\n",
       "      <td>0.0466</td>\n",
       "      <td>0.0263</td>\n",
       "      <td>0.000013</td>\n",
       "      <td>0.3470</td>\n",
       "      <td>0.544</td>\n",
       "      <td>119.992</td>\n",
       "      <td>rock, metal</td>\n",
       "    </tr>\n",
       "    <tr>\n",
       "      <th>4</th>\n",
       "      <td>*NSYNC</td>\n",
       "      <td>Bye Bye Bye</td>\n",
       "      <td>200560</td>\n",
       "      <td>False</td>\n",
       "      <td>2000</td>\n",
       "      <td>65</td>\n",
       "      <td>0.614</td>\n",
       "      <td>0.928</td>\n",
       "      <td>8</td>\n",
       "      <td>-4.806</td>\n",
       "      <td>0</td>\n",
       "      <td>0.0516</td>\n",
       "      <td>0.0408</td>\n",
       "      <td>0.001040</td>\n",
       "      <td>0.0845</td>\n",
       "      <td>0.879</td>\n",
       "      <td>172.656</td>\n",
       "      <td>pop</td>\n",
       "    </tr>\n",
       "  </tbody>\n",
       "</table>\n",
       "</div>"
      ],
      "text/plain": [
       "           artist                    song  duration_ms  explicit  year   \n",
       "0  Britney Spears  Oops!...I Did It Again       211160     False  2000  \\\n",
       "1       blink-182    All The Small Things       167066     False  1999   \n",
       "2      Faith Hill                 Breathe       250546     False  1999   \n",
       "3        Bon Jovi            It's My Life       224493     False  2000   \n",
       "4          *NSYNC             Bye Bye Bye       200560     False  2000   \n",
       "\n",
       "   popularity  danceability  energy  key  loudness  mode  speechiness   \n",
       "0          77         0.751   0.834    1    -5.444     0       0.0437  \\\n",
       "1          79         0.434   0.897    0    -4.918     1       0.0488   \n",
       "2          66         0.529   0.496    7    -9.007     1       0.0290   \n",
       "3          78         0.551   0.913    0    -4.063     0       0.0466   \n",
       "4          65         0.614   0.928    8    -4.806     0       0.0516   \n",
       "\n",
       "   acousticness  instrumentalness  liveness  valence    tempo         genre  \n",
       "0        0.3000          0.000018    0.3550    0.894   95.053           pop  \n",
       "1        0.0103          0.000000    0.6120    0.684  148.726     rock, pop  \n",
       "2        0.1730          0.000000    0.2510    0.278  136.859  pop, country  \n",
       "3        0.0263          0.000013    0.3470    0.544  119.992   rock, metal  \n",
       "4        0.0408          0.001040    0.0845    0.879  172.656           pop  "
      ]
     },
     "execution_count": 90,
     "metadata": {},
     "output_type": "execute_result"
    }
   ],
   "source": [
    "songs.head()"
   ]
  },
  {
   "cell_type": "code",
   "execution_count": 91,
   "id": "c5d58300",
   "metadata": {},
   "outputs": [
    {
     "data": {
      "text/plain": [
       "(2000, 18)"
      ]
     },
     "execution_count": 91,
     "metadata": {},
     "output_type": "execute_result"
    }
   ],
   "source": [
    "#returns the number of rows and columns in the dataframe\n",
    "songs.shape"
   ]
  },
  {
   "cell_type": "markdown",
   "id": "0ff0309c",
   "metadata": {},
   "source": [
    "There are 2000 total rows and 18 columns"
   ]
  },
  {
   "cell_type": "code",
   "execution_count": 92,
   "id": "5c4dee30",
   "metadata": {},
   "outputs": [
    {
     "data": {
      "text/plain": [
       "Index(['artist', 'song', 'duration_ms', 'explicit', 'year', 'popularity',\n",
       "       'danceability', 'energy', 'key', 'loudness', 'mode', 'speechiness',\n",
       "       'acousticness', 'instrumentalness', 'liveness', 'valence', 'tempo',\n",
       "       'genre'],\n",
       "      dtype='object')"
      ]
     },
     "execution_count": 92,
     "metadata": {},
     "output_type": "execute_result"
    }
   ],
   "source": [
    "#returns the column names of the dataframe\n",
    "songs.columns"
   ]
  },
  {
   "cell_type": "code",
   "execution_count": 93,
   "id": "e0275bab",
   "metadata": {},
   "outputs": [
    {
     "data": {
      "text/html": [
       "<div>\n",
       "<style scoped>\n",
       "    .dataframe tbody tr th:only-of-type {\n",
       "        vertical-align: middle;\n",
       "    }\n",
       "\n",
       "    .dataframe tbody tr th {\n",
       "        vertical-align: top;\n",
       "    }\n",
       "\n",
       "    .dataframe thead th {\n",
       "        text-align: right;\n",
       "    }\n",
       "</style>\n",
       "<table border=\"1\" class=\"dataframe\">\n",
       "  <thead>\n",
       "    <tr style=\"text-align: right;\">\n",
       "      <th></th>\n",
       "      <th>duration_ms</th>\n",
       "      <th>year</th>\n",
       "      <th>popularity</th>\n",
       "      <th>danceability</th>\n",
       "      <th>energy</th>\n",
       "      <th>key</th>\n",
       "      <th>loudness</th>\n",
       "      <th>mode</th>\n",
       "      <th>speechiness</th>\n",
       "      <th>acousticness</th>\n",
       "      <th>instrumentalness</th>\n",
       "      <th>liveness</th>\n",
       "      <th>valence</th>\n",
       "      <th>tempo</th>\n",
       "    </tr>\n",
       "  </thead>\n",
       "  <tbody>\n",
       "    <tr>\n",
       "      <th>count</th>\n",
       "      <td>2000.000000</td>\n",
       "      <td>2000.00000</td>\n",
       "      <td>2000.000000</td>\n",
       "      <td>2000.000000</td>\n",
       "      <td>2000.000000</td>\n",
       "      <td>2000.000000</td>\n",
       "      <td>2000.000000</td>\n",
       "      <td>2000.000000</td>\n",
       "      <td>2000.000000</td>\n",
       "      <td>2000.000000</td>\n",
       "      <td>2000.000000</td>\n",
       "      <td>2000.000000</td>\n",
       "      <td>2000.000000</td>\n",
       "      <td>2000.000000</td>\n",
       "    </tr>\n",
       "    <tr>\n",
       "      <th>mean</th>\n",
       "      <td>228748.124500</td>\n",
       "      <td>2009.49400</td>\n",
       "      <td>59.872500</td>\n",
       "      <td>0.667438</td>\n",
       "      <td>0.720366</td>\n",
       "      <td>5.378000</td>\n",
       "      <td>-5.512434</td>\n",
       "      <td>0.553500</td>\n",
       "      <td>0.103568</td>\n",
       "      <td>0.128955</td>\n",
       "      <td>0.015226</td>\n",
       "      <td>0.181216</td>\n",
       "      <td>0.551690</td>\n",
       "      <td>120.122558</td>\n",
       "    </tr>\n",
       "    <tr>\n",
       "      <th>std</th>\n",
       "      <td>39136.569008</td>\n",
       "      <td>5.85996</td>\n",
       "      <td>21.335577</td>\n",
       "      <td>0.140416</td>\n",
       "      <td>0.152745</td>\n",
       "      <td>3.615059</td>\n",
       "      <td>1.933482</td>\n",
       "      <td>0.497254</td>\n",
       "      <td>0.096159</td>\n",
       "      <td>0.173346</td>\n",
       "      <td>0.087771</td>\n",
       "      <td>0.140669</td>\n",
       "      <td>0.220864</td>\n",
       "      <td>26.967112</td>\n",
       "    </tr>\n",
       "    <tr>\n",
       "      <th>min</th>\n",
       "      <td>113000.000000</td>\n",
       "      <td>1998.00000</td>\n",
       "      <td>0.000000</td>\n",
       "      <td>0.129000</td>\n",
       "      <td>0.054900</td>\n",
       "      <td>0.000000</td>\n",
       "      <td>-20.514000</td>\n",
       "      <td>0.000000</td>\n",
       "      <td>0.023200</td>\n",
       "      <td>0.000019</td>\n",
       "      <td>0.000000</td>\n",
       "      <td>0.021500</td>\n",
       "      <td>0.038100</td>\n",
       "      <td>60.019000</td>\n",
       "    </tr>\n",
       "    <tr>\n",
       "      <th>25%</th>\n",
       "      <td>203580.000000</td>\n",
       "      <td>2004.00000</td>\n",
       "      <td>56.000000</td>\n",
       "      <td>0.581000</td>\n",
       "      <td>0.622000</td>\n",
       "      <td>2.000000</td>\n",
       "      <td>-6.490250</td>\n",
       "      <td>0.000000</td>\n",
       "      <td>0.039600</td>\n",
       "      <td>0.014000</td>\n",
       "      <td>0.000000</td>\n",
       "      <td>0.088100</td>\n",
       "      <td>0.386750</td>\n",
       "      <td>98.985750</td>\n",
       "    </tr>\n",
       "    <tr>\n",
       "      <th>50%</th>\n",
       "      <td>223279.500000</td>\n",
       "      <td>2010.00000</td>\n",
       "      <td>65.500000</td>\n",
       "      <td>0.676000</td>\n",
       "      <td>0.736000</td>\n",
       "      <td>6.000000</td>\n",
       "      <td>-5.285000</td>\n",
       "      <td>1.000000</td>\n",
       "      <td>0.059850</td>\n",
       "      <td>0.055700</td>\n",
       "      <td>0.000000</td>\n",
       "      <td>0.124000</td>\n",
       "      <td>0.557500</td>\n",
       "      <td>120.021500</td>\n",
       "    </tr>\n",
       "    <tr>\n",
       "      <th>75%</th>\n",
       "      <td>248133.000000</td>\n",
       "      <td>2015.00000</td>\n",
       "      <td>73.000000</td>\n",
       "      <td>0.764000</td>\n",
       "      <td>0.839000</td>\n",
       "      <td>8.000000</td>\n",
       "      <td>-4.167750</td>\n",
       "      <td>1.000000</td>\n",
       "      <td>0.129000</td>\n",
       "      <td>0.176250</td>\n",
       "      <td>0.000068</td>\n",
       "      <td>0.241000</td>\n",
       "      <td>0.730000</td>\n",
       "      <td>134.265500</td>\n",
       "    </tr>\n",
       "    <tr>\n",
       "      <th>max</th>\n",
       "      <td>484146.000000</td>\n",
       "      <td>2020.00000</td>\n",
       "      <td>89.000000</td>\n",
       "      <td>0.975000</td>\n",
       "      <td>0.999000</td>\n",
       "      <td>11.000000</td>\n",
       "      <td>-0.276000</td>\n",
       "      <td>1.000000</td>\n",
       "      <td>0.576000</td>\n",
       "      <td>0.976000</td>\n",
       "      <td>0.985000</td>\n",
       "      <td>0.853000</td>\n",
       "      <td>0.973000</td>\n",
       "      <td>210.851000</td>\n",
       "    </tr>\n",
       "  </tbody>\n",
       "</table>\n",
       "</div>"
      ],
      "text/plain": [
       "         duration_ms        year   popularity  danceability       energy   \n",
       "count    2000.000000  2000.00000  2000.000000   2000.000000  2000.000000  \\\n",
       "mean   228748.124500  2009.49400    59.872500      0.667438     0.720366   \n",
       "std     39136.569008     5.85996    21.335577      0.140416     0.152745   \n",
       "min    113000.000000  1998.00000     0.000000      0.129000     0.054900   \n",
       "25%    203580.000000  2004.00000    56.000000      0.581000     0.622000   \n",
       "50%    223279.500000  2010.00000    65.500000      0.676000     0.736000   \n",
       "75%    248133.000000  2015.00000    73.000000      0.764000     0.839000   \n",
       "max    484146.000000  2020.00000    89.000000      0.975000     0.999000   \n",
       "\n",
       "               key     loudness         mode  speechiness  acousticness   \n",
       "count  2000.000000  2000.000000  2000.000000  2000.000000   2000.000000  \\\n",
       "mean      5.378000    -5.512434     0.553500     0.103568      0.128955   \n",
       "std       3.615059     1.933482     0.497254     0.096159      0.173346   \n",
       "min       0.000000   -20.514000     0.000000     0.023200      0.000019   \n",
       "25%       2.000000    -6.490250     0.000000     0.039600      0.014000   \n",
       "50%       6.000000    -5.285000     1.000000     0.059850      0.055700   \n",
       "75%       8.000000    -4.167750     1.000000     0.129000      0.176250   \n",
       "max      11.000000    -0.276000     1.000000     0.576000      0.976000   \n",
       "\n",
       "       instrumentalness     liveness      valence        tempo  \n",
       "count       2000.000000  2000.000000  2000.000000  2000.000000  \n",
       "mean           0.015226     0.181216     0.551690   120.122558  \n",
       "std            0.087771     0.140669     0.220864    26.967112  \n",
       "min            0.000000     0.021500     0.038100    60.019000  \n",
       "25%            0.000000     0.088100     0.386750    98.985750  \n",
       "50%            0.000000     0.124000     0.557500   120.021500  \n",
       "75%            0.000068     0.241000     0.730000   134.265500  \n",
       "max            0.985000     0.853000     0.973000   210.851000  "
      ]
     },
     "execution_count": 93,
     "metadata": {},
     "output_type": "execute_result"
    }
   ],
   "source": [
    "#descriptive statistics\n",
    "songs.describe()"
   ]
  },
  {
   "cell_type": "markdown",
   "id": "3c8c6915",
   "metadata": {},
   "source": [
    "### Dropping Outlier Years"
   ]
  },
  {
   "cell_type": "markdown",
   "id": "8f022ba4",
   "metadata": {},
   "source": [
    "According to the dataset, it should only include songs from 2000-2019. But the min year is 1998 and max is 2020, we need to fix that"
   ]
  },
  {
   "cell_type": "code",
   "execution_count": 94,
   "id": "2b612cd3",
   "metadata": {},
   "outputs": [
    {
     "data": {
      "text/plain": [
       "[1998,\n",
       " 1999,\n",
       " 2000,\n",
       " 2001,\n",
       " 2002,\n",
       " 2003,\n",
       " 2004,\n",
       " 2005,\n",
       " 2006,\n",
       " 2007,\n",
       " 2008,\n",
       " 2009,\n",
       " 2010,\n",
       " 2011,\n",
       " 2012,\n",
       " 2013,\n",
       " 2014,\n",
       " 2015,\n",
       " 2016,\n",
       " 2017,\n",
       " 2018,\n",
       " 2019,\n",
       " 2020]"
      ]
     },
     "execution_count": 94,
     "metadata": {},
     "output_type": "execute_result"
    }
   ],
   "source": [
    "#looking at all the unique year values in sorted order\n",
    "sorted(songs.year.unique())"
   ]
  },
  {
   "cell_type": "code",
   "execution_count": 95,
   "id": "a4c2fed8",
   "metadata": {},
   "outputs": [
    {
     "data": {
      "text/plain": [
       "(42, 18)"
      ]
     },
     "execution_count": 95,
     "metadata": {},
     "output_type": "execute_result"
    }
   ],
   "source": [
    "#finding songs in the year 1998,1999, 2020 that don't belong in the dataset.\n",
    "songs.loc[((songs.year==1998) | (songs.year==1999) | (songs.year==2020))].shape"
   ]
  },
  {
   "cell_type": "markdown",
   "id": "bf295738",
   "metadata": {},
   "source": [
    "There are 42 rows of data "
   ]
  },
  {
   "cell_type": "code",
   "execution_count": 96,
   "id": "fbaddd58",
   "metadata": {},
   "outputs": [],
   "source": [
    "#dropping the songs with the years 1998, 1999 and 2020 since they don't belong in the dataset\n",
    "songs=songs.loc[~((songs.year==1998) | (songs.year==1999) | (songs.year==2020))]"
   ]
  },
  {
   "cell_type": "code",
   "execution_count": 97,
   "id": "36cc278c",
   "metadata": {
    "scrolled": true
   },
   "outputs": [
    {
     "data": {
      "text/plain": [
       "[2000,\n",
       " 2001,\n",
       " 2002,\n",
       " 2003,\n",
       " 2004,\n",
       " 2005,\n",
       " 2006,\n",
       " 2007,\n",
       " 2008,\n",
       " 2009,\n",
       " 2010,\n",
       " 2011,\n",
       " 2012,\n",
       " 2013,\n",
       " 2014,\n",
       " 2015,\n",
       " 2016,\n",
       " 2017,\n",
       " 2018,\n",
       " 2019]"
      ]
     },
     "execution_count": 97,
     "metadata": {},
     "output_type": "execute_result"
    }
   ],
   "source": [
    "sorted(songs.year.unique())"
   ]
  },
  {
   "cell_type": "markdown",
   "id": "671db779",
   "metadata": {},
   "source": [
    "Check number of rows match up to see if we dropped the rows properly."
   ]
  },
  {
   "cell_type": "code",
   "execution_count": 98,
   "id": "f1ed9bf7",
   "metadata": {},
   "outputs": [
    {
     "data": {
      "text/plain": [
       "(1958, 18)"
      ]
     },
     "execution_count": 98,
     "metadata": {},
     "output_type": "execute_result"
    }
   ],
   "source": [
    "songs.shape"
   ]
  },
  {
   "cell_type": "markdown",
   "id": "5a321e6d",
   "metadata": {},
   "source": [
    "2000-42=1958, so no problems"
   ]
  },
  {
   "cell_type": "markdown",
   "id": "9ebfdae5",
   "metadata": {},
   "source": [
    "### Checking for Nulls"
   ]
  },
  {
   "cell_type": "code",
   "execution_count": 99,
   "id": "dbac6929",
   "metadata": {},
   "outputs": [
    {
     "data": {
      "text/plain": [
       "artist              0\n",
       "song                0\n",
       "duration_ms         0\n",
       "explicit            0\n",
       "year                0\n",
       "popularity          0\n",
       "danceability        0\n",
       "energy              0\n",
       "key                 0\n",
       "loudness            0\n",
       "mode                0\n",
       "speechiness         0\n",
       "acousticness        0\n",
       "instrumentalness    0\n",
       "liveness            0\n",
       "valence             0\n",
       "tempo               0\n",
       "genre               0\n",
       "dtype: int64"
      ]
     },
     "execution_count": 99,
     "metadata": {},
     "output_type": "execute_result"
    }
   ],
   "source": [
    "#checking for total number of nulls from each column\n",
    "songs.isnull().sum()"
   ]
  },
  {
   "cell_type": "markdown",
   "id": "83014ecb",
   "metadata": {},
   "source": [
    "There are no null values in any of the columns, that's good"
   ]
  },
  {
   "cell_type": "markdown",
   "id": "507b7aa0",
   "metadata": {},
   "source": [
    "### Checking for Duplicates"
   ]
  },
  {
   "cell_type": "code",
   "execution_count": 100,
   "id": "023c0ca0",
   "metadata": {},
   "outputs": [
    {
     "data": {
      "text/plain": [
       "59"
      ]
     },
     "execution_count": 100,
     "metadata": {},
     "output_type": "execute_result"
    }
   ],
   "source": [
    "#checking for total number of duplicates\n",
    "songs.duplicated().sum()"
   ]
  },
  {
   "cell_type": "markdown",
   "id": "8dfb046e",
   "metadata": {},
   "source": [
    "There are 59 rows of duplicates"
   ]
  },
  {
   "cell_type": "code",
   "execution_count": 101,
   "id": "fa686c58",
   "metadata": {},
   "outputs": [],
   "source": [
    "#dropping the duplicates\n",
    "songs.drop_duplicates(inplace=True)"
   ]
  },
  {
   "cell_type": "markdown",
   "id": "d91dadec",
   "metadata": {},
   "source": [
    "Checking the number of rows to see duplicates were properly dropped"
   ]
  },
  {
   "cell_type": "code",
   "execution_count": 102,
   "id": "5485e742",
   "metadata": {},
   "outputs": [
    {
     "data": {
      "text/plain": [
       "(1899, 18)"
      ]
     },
     "execution_count": 102,
     "metadata": {},
     "output_type": "execute_result"
    }
   ],
   "source": [
    "songs.shape"
   ]
  },
  {
   "cell_type": "markdown",
   "id": "8a405d9f",
   "metadata": {},
   "source": [
    "1958-59=1899, no problems"
   ]
  },
  {
   "cell_type": "markdown",
   "id": "a97f4894",
   "metadata": {},
   "source": [
    "### Checking for Proper Data Types"
   ]
  },
  {
   "cell_type": "code",
   "execution_count": 103,
   "id": "46bfe7ed",
   "metadata": {},
   "outputs": [
    {
     "data": {
      "text/plain": [
       "artist               object\n",
       "song                 object\n",
       "duration_ms           int64\n",
       "explicit               bool\n",
       "year                  int64\n",
       "popularity            int64\n",
       "danceability        float64\n",
       "energy              float64\n",
       "key                   int64\n",
       "loudness            float64\n",
       "mode                  int64\n",
       "speechiness         float64\n",
       "acousticness        float64\n",
       "instrumentalness    float64\n",
       "liveness            float64\n",
       "valence             float64\n",
       "tempo               float64\n",
       "genre                object\n",
       "dtype: object"
      ]
     },
     "execution_count": 103,
     "metadata": {},
     "output_type": "execute_result"
    }
   ],
   "source": [
    "#looking at data types of each column\n",
    "songs.dtypes"
   ]
  },
  {
   "cell_type": "markdown",
   "id": "c2db824c",
   "metadata": {},
   "source": [
    "Datatype for each column make sense"
   ]
  },
  {
   "cell_type": "markdown",
   "id": "10cd4824",
   "metadata": {},
   "source": [
    "### Changing song duration column from ms to mins"
   ]
  },
  {
   "cell_type": "markdown",
   "id": "7ae50e6e",
   "metadata": {},
   "source": [
    "Looking at the song duration in miliseconds is confusing. So we will change them to minutes instead and create a new column"
   ]
  },
  {
   "cell_type": "code",
   "execution_count": 104,
   "id": "953d7767",
   "metadata": {},
   "outputs": [
    {
     "data": {
      "text/plain": [
       "count      1899.000000\n",
       "mean     228123.525540\n",
       "std       39116.687604\n",
       "min      113000.000000\n",
       "25%      203273.000000\n",
       "50%      222920.000000\n",
       "75%      247086.000000\n",
       "max      484146.000000\n",
       "Name: duration_ms, dtype: float64"
      ]
     },
     "execution_count": 104,
     "metadata": {},
     "output_type": "execute_result"
    }
   ],
   "source": [
    "#descriptive statistics of song_duration_ms column\n",
    "songs.duration_ms.describe()"
   ]
  },
  {
   "cell_type": "code",
   "execution_count": 105,
   "id": "4ea1504a",
   "metadata": {},
   "outputs": [],
   "source": [
    "#creating a new column for duration in minutes and droppping the duration in ms column\n",
    "songs['duration_mins']=songs['duration_ms'].apply(lambda x: x/60000)\n",
    "songs['duration_mins']=songs['duration_mins'].apply(lambda x: round(x, 2))\n",
    "songs=songs.drop('duration_ms',axis=1)"
   ]
  },
  {
   "cell_type": "code",
   "execution_count": 106,
   "id": "20318d54",
   "metadata": {},
   "outputs": [
    {
     "data": {
      "text/plain": [
       "count    1899.000000\n",
       "mean        3.802070\n",
       "std         0.652115\n",
       "min         1.880000\n",
       "25%         3.390000\n",
       "50%         3.720000\n",
       "75%         4.120000\n",
       "max         8.070000\n",
       "Name: duration_mins, dtype: float64"
      ]
     },
     "execution_count": 106,
     "metadata": {},
     "output_type": "execute_result"
    }
   ],
   "source": [
    "#descriptive statistics of songs_duration_mins column\n",
    "songs.duration_mins.describe()"
   ]
  },
  {
   "cell_type": "markdown",
   "id": "cb2c1ed9",
   "metadata": {},
   "source": [
    "New duration_mins column makes more sense"
   ]
  },
  {
   "cell_type": "markdown",
   "id": "c9a531a0",
   "metadata": {},
   "source": [
    "### Dropping Irrelevant Columns"
   ]
  },
  {
   "cell_type": "code",
   "execution_count": 107,
   "id": "bd1889af",
   "metadata": {},
   "outputs": [
    {
     "data": {
      "text/plain": [
       "Index(['artist', 'song', 'explicit', 'year', 'popularity', 'danceability',\n",
       "       'energy', 'key', 'loudness', 'mode', 'speechiness', 'acousticness',\n",
       "       'instrumentalness', 'liveness', 'valence', 'tempo', 'genre',\n",
       "       'duration_mins'],\n",
       "      dtype='object')"
      ]
     },
     "execution_count": 107,
     "metadata": {},
     "output_type": "execute_result"
    }
   ],
   "source": [
    "songs.columns"
   ]
  },
  {
   "cell_type": "code",
   "execution_count": 108,
   "id": "80c4c1a6",
   "metadata": {},
   "outputs": [],
   "source": [
    "#dropping explict,key,mode and liveness columns because I won't need them for my analysis\n",
    "songs=songs.drop(['explicit','key','mode','liveness','loudness','speechiness','acousticness','instrumentalness','tempo'\n",
    "                  ,'energy'],axis=1)"
   ]
  },
  {
   "cell_type": "code",
   "execution_count": 109,
   "id": "e07c695e",
   "metadata": {},
   "outputs": [
    {
     "data": {
      "text/plain": [
       "Index(['artist', 'song', 'year', 'popularity', 'danceability', 'valence',\n",
       "       'genre', 'duration_mins'],\n",
       "      dtype='object')"
      ]
     },
     "execution_count": 109,
     "metadata": {},
     "output_type": "execute_result"
    }
   ],
   "source": [
    "songs.columns"
   ]
  },
  {
   "cell_type": "markdown",
   "id": "2c8fcc4b",
   "metadata": {},
   "source": [
    "### Capitalizing the First Letter of the Column Names"
   ]
  },
  {
   "cell_type": "code",
   "execution_count": 110,
   "id": "1f64851f",
   "metadata": {},
   "outputs": [
    {
     "data": {
      "text/html": [
       "<div>\n",
       "<style scoped>\n",
       "    .dataframe tbody tr th:only-of-type {\n",
       "        vertical-align: middle;\n",
       "    }\n",
       "\n",
       "    .dataframe tbody tr th {\n",
       "        vertical-align: top;\n",
       "    }\n",
       "\n",
       "    .dataframe thead th {\n",
       "        text-align: right;\n",
       "    }\n",
       "</style>\n",
       "<table border=\"1\" class=\"dataframe\">\n",
       "  <thead>\n",
       "    <tr style=\"text-align: right;\">\n",
       "      <th></th>\n",
       "      <th>artist</th>\n",
       "      <th>song</th>\n",
       "      <th>year</th>\n",
       "      <th>popularity</th>\n",
       "      <th>danceability</th>\n",
       "      <th>valence</th>\n",
       "      <th>genre</th>\n",
       "      <th>duration_mins</th>\n",
       "    </tr>\n",
       "  </thead>\n",
       "  <tbody>\n",
       "    <tr>\n",
       "      <th>0</th>\n",
       "      <td>Britney Spears</td>\n",
       "      <td>Oops!...I Did It Again</td>\n",
       "      <td>2000</td>\n",
       "      <td>77</td>\n",
       "      <td>0.751</td>\n",
       "      <td>0.894</td>\n",
       "      <td>pop</td>\n",
       "      <td>3.52</td>\n",
       "    </tr>\n",
       "    <tr>\n",
       "      <th>3</th>\n",
       "      <td>Bon Jovi</td>\n",
       "      <td>It's My Life</td>\n",
       "      <td>2000</td>\n",
       "      <td>78</td>\n",
       "      <td>0.551</td>\n",
       "      <td>0.544</td>\n",
       "      <td>rock, metal</td>\n",
       "      <td>3.74</td>\n",
       "    </tr>\n",
       "    <tr>\n",
       "      <th>4</th>\n",
       "      <td>*NSYNC</td>\n",
       "      <td>Bye Bye Bye</td>\n",
       "      <td>2000</td>\n",
       "      <td>65</td>\n",
       "      <td>0.614</td>\n",
       "      <td>0.879</td>\n",
       "      <td>pop</td>\n",
       "      <td>3.34</td>\n",
       "    </tr>\n",
       "    <tr>\n",
       "      <th>6</th>\n",
       "      <td>Eminem</td>\n",
       "      <td>The Real Slim Shady</td>\n",
       "      <td>2000</td>\n",
       "      <td>86</td>\n",
       "      <td>0.949</td>\n",
       "      <td>0.760</td>\n",
       "      <td>hip hop</td>\n",
       "      <td>4.74</td>\n",
       "    </tr>\n",
       "    <tr>\n",
       "      <th>7</th>\n",
       "      <td>Robbie Williams</td>\n",
       "      <td>Rock DJ</td>\n",
       "      <td>2000</td>\n",
       "      <td>68</td>\n",
       "      <td>0.708</td>\n",
       "      <td>0.861</td>\n",
       "      <td>pop, rock</td>\n",
       "      <td>4.31</td>\n",
       "    </tr>\n",
       "  </tbody>\n",
       "</table>\n",
       "</div>"
      ],
      "text/plain": [
       "            artist                    song  year  popularity  danceability   \n",
       "0   Britney Spears  Oops!...I Did It Again  2000          77         0.751  \\\n",
       "3         Bon Jovi            It's My Life  2000          78         0.551   \n",
       "4           *NSYNC             Bye Bye Bye  2000          65         0.614   \n",
       "6           Eminem     The Real Slim Shady  2000          86         0.949   \n",
       "7  Robbie Williams                 Rock DJ  2000          68         0.708   \n",
       "\n",
       "   valence        genre  duration_mins  \n",
       "0    0.894          pop           3.52  \n",
       "3    0.544  rock, metal           3.74  \n",
       "4    0.879          pop           3.34  \n",
       "6    0.760      hip hop           4.74  \n",
       "7    0.861    pop, rock           4.31  "
      ]
     },
     "execution_count": 110,
     "metadata": {},
     "output_type": "execute_result"
    }
   ],
   "source": [
    "songs.head()"
   ]
  },
  {
   "cell_type": "code",
   "execution_count": 111,
   "id": "1e5febd6",
   "metadata": {},
   "outputs": [],
   "source": [
    "#function to capitalize first letter of each column name\n",
    "def capitalize_first_letter(string):\n",
    "    return string.capitalize()\n",
    "#applying the function to the columns\n",
    "songs=songs.rename(columns=capitalize_first_letter)"
   ]
  },
  {
   "cell_type": "code",
   "execution_count": 112,
   "id": "21df4673",
   "metadata": {},
   "outputs": [
    {
     "data": {
      "text/html": [
       "<div>\n",
       "<style scoped>\n",
       "    .dataframe tbody tr th:only-of-type {\n",
       "        vertical-align: middle;\n",
       "    }\n",
       "\n",
       "    .dataframe tbody tr th {\n",
       "        vertical-align: top;\n",
       "    }\n",
       "\n",
       "    .dataframe thead th {\n",
       "        text-align: right;\n",
       "    }\n",
       "</style>\n",
       "<table border=\"1\" class=\"dataframe\">\n",
       "  <thead>\n",
       "    <tr style=\"text-align: right;\">\n",
       "      <th></th>\n",
       "      <th>Artist</th>\n",
       "      <th>Song</th>\n",
       "      <th>Year</th>\n",
       "      <th>Popularity</th>\n",
       "      <th>Danceability</th>\n",
       "      <th>Valence</th>\n",
       "      <th>Genre</th>\n",
       "      <th>Duration_mins</th>\n",
       "    </tr>\n",
       "  </thead>\n",
       "  <tbody>\n",
       "    <tr>\n",
       "      <th>0</th>\n",
       "      <td>Britney Spears</td>\n",
       "      <td>Oops!...I Did It Again</td>\n",
       "      <td>2000</td>\n",
       "      <td>77</td>\n",
       "      <td>0.751</td>\n",
       "      <td>0.894</td>\n",
       "      <td>pop</td>\n",
       "      <td>3.52</td>\n",
       "    </tr>\n",
       "    <tr>\n",
       "      <th>3</th>\n",
       "      <td>Bon Jovi</td>\n",
       "      <td>It's My Life</td>\n",
       "      <td>2000</td>\n",
       "      <td>78</td>\n",
       "      <td>0.551</td>\n",
       "      <td>0.544</td>\n",
       "      <td>rock, metal</td>\n",
       "      <td>3.74</td>\n",
       "    </tr>\n",
       "    <tr>\n",
       "      <th>4</th>\n",
       "      <td>*NSYNC</td>\n",
       "      <td>Bye Bye Bye</td>\n",
       "      <td>2000</td>\n",
       "      <td>65</td>\n",
       "      <td>0.614</td>\n",
       "      <td>0.879</td>\n",
       "      <td>pop</td>\n",
       "      <td>3.34</td>\n",
       "    </tr>\n",
       "    <tr>\n",
       "      <th>6</th>\n",
       "      <td>Eminem</td>\n",
       "      <td>The Real Slim Shady</td>\n",
       "      <td>2000</td>\n",
       "      <td>86</td>\n",
       "      <td>0.949</td>\n",
       "      <td>0.760</td>\n",
       "      <td>hip hop</td>\n",
       "      <td>4.74</td>\n",
       "    </tr>\n",
       "    <tr>\n",
       "      <th>7</th>\n",
       "      <td>Robbie Williams</td>\n",
       "      <td>Rock DJ</td>\n",
       "      <td>2000</td>\n",
       "      <td>68</td>\n",
       "      <td>0.708</td>\n",
       "      <td>0.861</td>\n",
       "      <td>pop, rock</td>\n",
       "      <td>4.31</td>\n",
       "    </tr>\n",
       "  </tbody>\n",
       "</table>\n",
       "</div>"
      ],
      "text/plain": [
       "            Artist                    Song  Year  Popularity  Danceability   \n",
       "0   Britney Spears  Oops!...I Did It Again  2000          77         0.751  \\\n",
       "3         Bon Jovi            It's My Life  2000          78         0.551   \n",
       "4           *NSYNC             Bye Bye Bye  2000          65         0.614   \n",
       "6           Eminem     The Real Slim Shady  2000          86         0.949   \n",
       "7  Robbie Williams                 Rock DJ  2000          68         0.708   \n",
       "\n",
       "   Valence        Genre  Duration_mins  \n",
       "0    0.894          pop           3.52  \n",
       "3    0.544  rock, metal           3.74  \n",
       "4    0.879          pop           3.34  \n",
       "6    0.760      hip hop           4.74  \n",
       "7    0.861    pop, rock           4.31  "
      ]
     },
     "execution_count": 112,
     "metadata": {},
     "output_type": "execute_result"
    }
   ],
   "source": [
    "songs.head()"
   ]
  },
  {
   "cell_type": "markdown",
   "id": "dbd9aba2",
   "metadata": {},
   "source": [
    "### Changing the Order of the Columns"
   ]
  },
  {
   "cell_type": "code",
   "execution_count": 116,
   "id": "ab39dbbd",
   "metadata": {},
   "outputs": [],
   "source": [
    "#creating desired column order in a list\n",
    "column_order=['Artist','Song','Year','Genre','Duration_mins','Popularity','Danceability','Valence']"
   ]
  },
  {
   "cell_type": "code",
   "execution_count": 117,
   "id": "35b80bb4",
   "metadata": {},
   "outputs": [
    {
     "data": {
      "text/plain": [
       "['Artist',\n",
       " 'Song',\n",
       " 'Year',\n",
       " 'Genre',\n",
       " 'Duration_mins',\n",
       " 'Popularity',\n",
       " 'Danceability',\n",
       " 'Valence']"
      ]
     },
     "execution_count": 117,
     "metadata": {},
     "output_type": "execute_result"
    }
   ],
   "source": [
    "column_order"
   ]
  },
  {
   "cell_type": "code",
   "execution_count": 118,
   "id": "0e4ffac6",
   "metadata": {},
   "outputs": [],
   "source": [
    "#applying column order to the dataframe\n",
    "songs=songs[column_order]"
   ]
  },
  {
   "cell_type": "code",
   "execution_count": 119,
   "id": "b6db39a1",
   "metadata": {},
   "outputs": [
    {
     "data": {
      "text/html": [
       "<div>\n",
       "<style scoped>\n",
       "    .dataframe tbody tr th:only-of-type {\n",
       "        vertical-align: middle;\n",
       "    }\n",
       "\n",
       "    .dataframe tbody tr th {\n",
       "        vertical-align: top;\n",
       "    }\n",
       "\n",
       "    .dataframe thead th {\n",
       "        text-align: right;\n",
       "    }\n",
       "</style>\n",
       "<table border=\"1\" class=\"dataframe\">\n",
       "  <thead>\n",
       "    <tr style=\"text-align: right;\">\n",
       "      <th></th>\n",
       "      <th>Artist</th>\n",
       "      <th>Song</th>\n",
       "      <th>Year</th>\n",
       "      <th>Genre</th>\n",
       "      <th>Duration_mins</th>\n",
       "      <th>Popularity</th>\n",
       "      <th>Danceability</th>\n",
       "      <th>Valence</th>\n",
       "    </tr>\n",
       "  </thead>\n",
       "  <tbody>\n",
       "    <tr>\n",
       "      <th>0</th>\n",
       "      <td>Britney Spears</td>\n",
       "      <td>Oops!...I Did It Again</td>\n",
       "      <td>2000</td>\n",
       "      <td>pop</td>\n",
       "      <td>3.52</td>\n",
       "      <td>77</td>\n",
       "      <td>0.751</td>\n",
       "      <td>0.894</td>\n",
       "    </tr>\n",
       "    <tr>\n",
       "      <th>3</th>\n",
       "      <td>Bon Jovi</td>\n",
       "      <td>It's My Life</td>\n",
       "      <td>2000</td>\n",
       "      <td>rock, metal</td>\n",
       "      <td>3.74</td>\n",
       "      <td>78</td>\n",
       "      <td>0.551</td>\n",
       "      <td>0.544</td>\n",
       "    </tr>\n",
       "    <tr>\n",
       "      <th>4</th>\n",
       "      <td>*NSYNC</td>\n",
       "      <td>Bye Bye Bye</td>\n",
       "      <td>2000</td>\n",
       "      <td>pop</td>\n",
       "      <td>3.34</td>\n",
       "      <td>65</td>\n",
       "      <td>0.614</td>\n",
       "      <td>0.879</td>\n",
       "    </tr>\n",
       "    <tr>\n",
       "      <th>6</th>\n",
       "      <td>Eminem</td>\n",
       "      <td>The Real Slim Shady</td>\n",
       "      <td>2000</td>\n",
       "      <td>hip hop</td>\n",
       "      <td>4.74</td>\n",
       "      <td>86</td>\n",
       "      <td>0.949</td>\n",
       "      <td>0.760</td>\n",
       "    </tr>\n",
       "    <tr>\n",
       "      <th>7</th>\n",
       "      <td>Robbie Williams</td>\n",
       "      <td>Rock DJ</td>\n",
       "      <td>2000</td>\n",
       "      <td>pop, rock</td>\n",
       "      <td>4.31</td>\n",
       "      <td>68</td>\n",
       "      <td>0.708</td>\n",
       "      <td>0.861</td>\n",
       "    </tr>\n",
       "    <tr>\n",
       "      <th>...</th>\n",
       "      <td>...</td>\n",
       "      <td>...</td>\n",
       "      <td>...</td>\n",
       "      <td>...</td>\n",
       "      <td>...</td>\n",
       "      <td>...</td>\n",
       "      <td>...</td>\n",
       "      <td>...</td>\n",
       "    </tr>\n",
       "    <tr>\n",
       "      <th>1995</th>\n",
       "      <td>Jonas Brothers</td>\n",
       "      <td>Sucker</td>\n",
       "      <td>2019</td>\n",
       "      <td>pop</td>\n",
       "      <td>3.02</td>\n",
       "      <td>79</td>\n",
       "      <td>0.842</td>\n",
       "      <td>0.952</td>\n",
       "    </tr>\n",
       "    <tr>\n",
       "      <th>1996</th>\n",
       "      <td>Taylor Swift</td>\n",
       "      <td>Cruel Summer</td>\n",
       "      <td>2019</td>\n",
       "      <td>pop</td>\n",
       "      <td>2.97</td>\n",
       "      <td>78</td>\n",
       "      <td>0.552</td>\n",
       "      <td>0.564</td>\n",
       "    </tr>\n",
       "    <tr>\n",
       "      <th>1997</th>\n",
       "      <td>Blanco Brown</td>\n",
       "      <td>The Git Up</td>\n",
       "      <td>2019</td>\n",
       "      <td>hip hop, country</td>\n",
       "      <td>3.34</td>\n",
       "      <td>69</td>\n",
       "      <td>0.847</td>\n",
       "      <td>0.811</td>\n",
       "    </tr>\n",
       "    <tr>\n",
       "      <th>1998</th>\n",
       "      <td>Sam Smith</td>\n",
       "      <td>Dancing With A Stranger (with Normani)</td>\n",
       "      <td>2019</td>\n",
       "      <td>pop</td>\n",
       "      <td>2.85</td>\n",
       "      <td>75</td>\n",
       "      <td>0.741</td>\n",
       "      <td>0.347</td>\n",
       "    </tr>\n",
       "    <tr>\n",
       "      <th>1999</th>\n",
       "      <td>Post Malone</td>\n",
       "      <td>Circles</td>\n",
       "      <td>2019</td>\n",
       "      <td>hip hop</td>\n",
       "      <td>3.59</td>\n",
       "      <td>85</td>\n",
       "      <td>0.695</td>\n",
       "      <td>0.553</td>\n",
       "    </tr>\n",
       "  </tbody>\n",
       "</table>\n",
       "<p>1899 rows × 8 columns</p>\n",
       "</div>"
      ],
      "text/plain": [
       "               Artist                                    Song  Year   \n",
       "0      Britney Spears                  Oops!...I Did It Again  2000  \\\n",
       "3            Bon Jovi                            It's My Life  2000   \n",
       "4              *NSYNC                             Bye Bye Bye  2000   \n",
       "6              Eminem                     The Real Slim Shady  2000   \n",
       "7     Robbie Williams                                 Rock DJ  2000   \n",
       "...               ...                                     ...   ...   \n",
       "1995   Jonas Brothers                                  Sucker  2019   \n",
       "1996     Taylor Swift                            Cruel Summer  2019   \n",
       "1997     Blanco Brown                              The Git Up  2019   \n",
       "1998        Sam Smith  Dancing With A Stranger (with Normani)  2019   \n",
       "1999      Post Malone                                 Circles  2019   \n",
       "\n",
       "                 Genre  Duration_mins  Popularity  Danceability  Valence  \n",
       "0                  pop           3.52          77         0.751    0.894  \n",
       "3          rock, metal           3.74          78         0.551    0.544  \n",
       "4                  pop           3.34          65         0.614    0.879  \n",
       "6              hip hop           4.74          86         0.949    0.760  \n",
       "7            pop, rock           4.31          68         0.708    0.861  \n",
       "...                ...            ...         ...           ...      ...  \n",
       "1995               pop           3.02          79         0.842    0.952  \n",
       "1996               pop           2.97          78         0.552    0.564  \n",
       "1997  hip hop, country           3.34          69         0.847    0.811  \n",
       "1998               pop           2.85          75         0.741    0.347  \n",
       "1999           hip hop           3.59          85         0.695    0.553  \n",
       "\n",
       "[1899 rows x 8 columns]"
      ]
     },
     "execution_count": 119,
     "metadata": {},
     "output_type": "execute_result"
    }
   ],
   "source": [
    "songs"
   ]
  },
  {
   "cell_type": "code",
   "execution_count": 120,
   "id": "e163cc26",
   "metadata": {},
   "outputs": [],
   "source": [
    "#resetting index values so they are properly ordered\n",
    "songs=songs.reset_index(drop=True)"
   ]
  },
  {
   "cell_type": "code",
   "execution_count": 121,
   "id": "a4fd2ea7",
   "metadata": {},
   "outputs": [
    {
     "data": {
      "text/html": [
       "<div>\n",
       "<style scoped>\n",
       "    .dataframe tbody tr th:only-of-type {\n",
       "        vertical-align: middle;\n",
       "    }\n",
       "\n",
       "    .dataframe tbody tr th {\n",
       "        vertical-align: top;\n",
       "    }\n",
       "\n",
       "    .dataframe thead th {\n",
       "        text-align: right;\n",
       "    }\n",
       "</style>\n",
       "<table border=\"1\" class=\"dataframe\">\n",
       "  <thead>\n",
       "    <tr style=\"text-align: right;\">\n",
       "      <th></th>\n",
       "      <th>Artist</th>\n",
       "      <th>Song</th>\n",
       "      <th>Year</th>\n",
       "      <th>Genre</th>\n",
       "      <th>Duration_mins</th>\n",
       "      <th>Popularity</th>\n",
       "      <th>Danceability</th>\n",
       "      <th>Valence</th>\n",
       "    </tr>\n",
       "  </thead>\n",
       "  <tbody>\n",
       "    <tr>\n",
       "      <th>0</th>\n",
       "      <td>Britney Spears</td>\n",
       "      <td>Oops!...I Did It Again</td>\n",
       "      <td>2000</td>\n",
       "      <td>pop</td>\n",
       "      <td>3.52</td>\n",
       "      <td>77</td>\n",
       "      <td>0.751</td>\n",
       "      <td>0.894</td>\n",
       "    </tr>\n",
       "    <tr>\n",
       "      <th>1</th>\n",
       "      <td>Bon Jovi</td>\n",
       "      <td>It's My Life</td>\n",
       "      <td>2000</td>\n",
       "      <td>rock, metal</td>\n",
       "      <td>3.74</td>\n",
       "      <td>78</td>\n",
       "      <td>0.551</td>\n",
       "      <td>0.544</td>\n",
       "    </tr>\n",
       "    <tr>\n",
       "      <th>2</th>\n",
       "      <td>*NSYNC</td>\n",
       "      <td>Bye Bye Bye</td>\n",
       "      <td>2000</td>\n",
       "      <td>pop</td>\n",
       "      <td>3.34</td>\n",
       "      <td>65</td>\n",
       "      <td>0.614</td>\n",
       "      <td>0.879</td>\n",
       "    </tr>\n",
       "    <tr>\n",
       "      <th>3</th>\n",
       "      <td>Eminem</td>\n",
       "      <td>The Real Slim Shady</td>\n",
       "      <td>2000</td>\n",
       "      <td>hip hop</td>\n",
       "      <td>4.74</td>\n",
       "      <td>86</td>\n",
       "      <td>0.949</td>\n",
       "      <td>0.760</td>\n",
       "    </tr>\n",
       "    <tr>\n",
       "      <th>4</th>\n",
       "      <td>Robbie Williams</td>\n",
       "      <td>Rock DJ</td>\n",
       "      <td>2000</td>\n",
       "      <td>pop, rock</td>\n",
       "      <td>4.31</td>\n",
       "      <td>68</td>\n",
       "      <td>0.708</td>\n",
       "      <td>0.861</td>\n",
       "    </tr>\n",
       "    <tr>\n",
       "      <th>...</th>\n",
       "      <td>...</td>\n",
       "      <td>...</td>\n",
       "      <td>...</td>\n",
       "      <td>...</td>\n",
       "      <td>...</td>\n",
       "      <td>...</td>\n",
       "      <td>...</td>\n",
       "      <td>...</td>\n",
       "    </tr>\n",
       "    <tr>\n",
       "      <th>1894</th>\n",
       "      <td>Jonas Brothers</td>\n",
       "      <td>Sucker</td>\n",
       "      <td>2019</td>\n",
       "      <td>pop</td>\n",
       "      <td>3.02</td>\n",
       "      <td>79</td>\n",
       "      <td>0.842</td>\n",
       "      <td>0.952</td>\n",
       "    </tr>\n",
       "    <tr>\n",
       "      <th>1895</th>\n",
       "      <td>Taylor Swift</td>\n",
       "      <td>Cruel Summer</td>\n",
       "      <td>2019</td>\n",
       "      <td>pop</td>\n",
       "      <td>2.97</td>\n",
       "      <td>78</td>\n",
       "      <td>0.552</td>\n",
       "      <td>0.564</td>\n",
       "    </tr>\n",
       "    <tr>\n",
       "      <th>1896</th>\n",
       "      <td>Blanco Brown</td>\n",
       "      <td>The Git Up</td>\n",
       "      <td>2019</td>\n",
       "      <td>hip hop, country</td>\n",
       "      <td>3.34</td>\n",
       "      <td>69</td>\n",
       "      <td>0.847</td>\n",
       "      <td>0.811</td>\n",
       "    </tr>\n",
       "    <tr>\n",
       "      <th>1897</th>\n",
       "      <td>Sam Smith</td>\n",
       "      <td>Dancing With A Stranger (with Normani)</td>\n",
       "      <td>2019</td>\n",
       "      <td>pop</td>\n",
       "      <td>2.85</td>\n",
       "      <td>75</td>\n",
       "      <td>0.741</td>\n",
       "      <td>0.347</td>\n",
       "    </tr>\n",
       "    <tr>\n",
       "      <th>1898</th>\n",
       "      <td>Post Malone</td>\n",
       "      <td>Circles</td>\n",
       "      <td>2019</td>\n",
       "      <td>hip hop</td>\n",
       "      <td>3.59</td>\n",
       "      <td>85</td>\n",
       "      <td>0.695</td>\n",
       "      <td>0.553</td>\n",
       "    </tr>\n",
       "  </tbody>\n",
       "</table>\n",
       "<p>1899 rows × 8 columns</p>\n",
       "</div>"
      ],
      "text/plain": [
       "               Artist                                    Song  Year   \n",
       "0      Britney Spears                  Oops!...I Did It Again  2000  \\\n",
       "1            Bon Jovi                            It's My Life  2000   \n",
       "2              *NSYNC                             Bye Bye Bye  2000   \n",
       "3              Eminem                     The Real Slim Shady  2000   \n",
       "4     Robbie Williams                                 Rock DJ  2000   \n",
       "...               ...                                     ...   ...   \n",
       "1894   Jonas Brothers                                  Sucker  2019   \n",
       "1895     Taylor Swift                            Cruel Summer  2019   \n",
       "1896     Blanco Brown                              The Git Up  2019   \n",
       "1897        Sam Smith  Dancing With A Stranger (with Normani)  2019   \n",
       "1898      Post Malone                                 Circles  2019   \n",
       "\n",
       "                 Genre  Duration_mins  Popularity  Danceability  Valence  \n",
       "0                  pop           3.52          77         0.751    0.894  \n",
       "1          rock, metal           3.74          78         0.551    0.544  \n",
       "2                  pop           3.34          65         0.614    0.879  \n",
       "3              hip hop           4.74          86         0.949    0.760  \n",
       "4            pop, rock           4.31          68         0.708    0.861  \n",
       "...                ...            ...         ...           ...      ...  \n",
       "1894               pop           3.02          79         0.842    0.952  \n",
       "1895               pop           2.97          78         0.552    0.564  \n",
       "1896  hip hop, country           3.34          69         0.847    0.811  \n",
       "1897               pop           2.85          75         0.741    0.347  \n",
       "1898           hip hop           3.59          85         0.695    0.553  \n",
       "\n",
       "[1899 rows x 8 columns]"
      ]
     },
     "execution_count": 121,
     "metadata": {},
     "output_type": "execute_result"
    }
   ],
   "source": [
    "songs"
   ]
  },
  {
   "cell_type": "code",
   "execution_count": 122,
   "id": "70128a7e",
   "metadata": {},
   "outputs": [],
   "source": [
    "#exporting cleaned dataset to a csv file\n",
    "songs.to_csv('cleaned_spotify.csv',index=False)"
   ]
  }
 ],
 "metadata": {
  "kernelspec": {
   "display_name": "Python 3 (ipykernel)",
   "language": "python",
   "name": "python3"
  },
  "language_info": {
   "codemirror_mode": {
    "name": "ipython",
    "version": 3
   },
   "file_extension": ".py",
   "mimetype": "text/x-python",
   "name": "python",
   "nbconvert_exporter": "python",
   "pygments_lexer": "ipython3",
   "version": "3.10.5"
  }
 },
 "nbformat": 4,
 "nbformat_minor": 5
}
